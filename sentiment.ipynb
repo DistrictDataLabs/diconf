{
 "cells": [
  {
   "cell_type": "markdown",
   "metadata": {},
   "source": [
    "# Visual Pipelines for Text Analysis \n",
    "\n",
    "June 25, 2017 &middot; Data Intelligence Conference &middot; Capitol One\n",
    "\n",
    "## Visual Sentiment Analysis "
   ]
  },
  {
   "cell_type": "code",
   "execution_count": 1,
   "metadata": {
    "collapsed": false
   },
   "outputs": [],
   "source": [
    "# Imports\n",
    "\n",
    "from sklearn.naive_bayes import MultinomialNB\n",
    "from sklearn.metrics import classification_report\n",
    "from sklearn.model_selection import train_test_split\n",
    "from sklearn.feature_extraction.text import TfidfVectorizer\n",
    "\n",
    "from yellowbrick.classifier import ClassificationReport"
   ]
  },
  {
   "cell_type": "code",
   "execution_count": 2,
   "metadata": {
    "collapsed": false
   },
   "outputs": [],
   "source": [
    "# Load the Amazon reviews of patio, lawn, and garden equipment\n",
    "# Reviews include both text and rating on a 1-5 scale\n",
    "# Source: http://jmcauley.ucsd.edu/data/amazon/\n",
    "\n",
    "def get_reviews(path):\n",
    "    my_file = open(path, 'r')\n",
    "    for review in my_file:\n",
    "        content = eval(review)\n",
    "        yield (content[\"reviewText\"],content[\"overall\"])\n",
    "\n",
    "texts, ratings = zip(*list(get_reviews('fixtures/reviews_Patio_Lawn_and_Garden_5.json')))"
   ]
  },
  {
   "cell_type": "code",
   "execution_count": 3,
   "metadata": {
    "collapsed": false
   },
   "outputs": [],
   "source": [
    "# We'd like to use the text of the reviews to predict the numeric rating\n",
    "# Use term frequency-inverse document frequency to encode the texts\n",
    "\n",
    "X = list(texts)\n",
    "tfidf     = TfidfVectorizer()\n",
    "X_encoded = tfidf.fit_transform(X)"
   ]
  },
  {
   "cell_type": "code",
   "execution_count": 4,
   "metadata": {
    "collapsed": true
   },
   "outputs": [],
   "source": [
    "# Our target is the numeric ratings, which are provided on a 1-5 scale\n",
    "# We'll map the rating scale to a binary one, where a rating of 5 is\n",
    "# \"positive\" and a rating below 5 is \"negative\"\n",
    "\n",
    "y = list(ratings)\n",
    "y_mapped  = []\n",
    "for value in y:\n",
    "    if value >= 5.0:\n",
    "        y_mapped.append(1)\n",
    "    else:\n",
    "        y_mapped.append(0)"
   ]
  },
  {
   "cell_type": "code",
   "execution_count": 6,
   "metadata": {
    "collapsed": false
   },
   "outputs": [],
   "source": [
    "# Create training and test splits for cross validation\n",
    "\n",
    "splits = train_test_split(X_encoded, y_mapped, test_size=0.2)\n",
    "X_train, X_test, y_train, y_test = splits"
   ]
  },
  {
   "cell_type": "code",
   "execution_count": 7,
   "metadata": {
    "collapsed": false
   },
   "outputs": [
    {
     "data": {
      "image/png": "[encoded data removed]",
      "text/plain": [
       "<matplotlib.figure.Figure at 0x104c0c898>"
      ]
     },
     "metadata": {},
     "output_type": "display_data"
    }
   ],
   "source": [
    "# Train a Multinomial Naive Bayes model and use Yellowbrick to visualize\n",
    "# the fitted model's success at predicting \"positive\" (5-star) ratings\n",
    "\n",
    "visualizer = ClassificationReport(MultinomialNB())\n",
    "visualizer.fit(X_train, y_train)\n",
    "visualizer.score(X_test, y_test)\n",
    "visualizer.poof()"
   ]
  }
 ],
 "metadata": {
  "kernelspec": {
   "display_name": "Python 3",
   "language": "python",
   "name": "python3"
  },
  "language_info": {
   "codemirror_mode": {
    "name": "ipython",
    "version": 3
   },
   "file_extension": ".py",
   "mimetype": "text/x-python",
   "name": "python",
   "nbconvert_exporter": "python",
   "pygments_lexer": "ipython3",
   "version": "3.5.2"
  }
 },
 "nbformat": 4,
 "nbformat_minor": 2
}
